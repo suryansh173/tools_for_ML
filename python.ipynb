{
 "cells": [
  {
   "cell_type": "code",
   "execution_count": 5,
   "metadata": {},
   "outputs": [
    {
     "name": "stdout",
     "output_type": "stream",
     "text": [
      "2\n",
      "[2, 4, 7, 'jaguar', [1, 2, '3', 'tiger']]\n"
     ]
    }
   ],
   "source": [
    "list1=[1,2,'3','tiger']\n",
    "print(list1[1])\n",
    "list2=[2,4,7,'jaguar',list1]\n",
    "print(list2)"
   ]
  },
  {
   "cell_type": "code",
   "execution_count": 2,
   "metadata": {},
   "outputs": [
    {
     "name": "stdout",
     "output_type": "stream",
     "text": [
      "[1 2 3 4 5 6 7 8]\n",
      "[ 0  4  8 12]\n"
     ]
    }
   ],
   "source": [
    "import numpy as np\n",
    "\n",
    "numarr = np.array([1,2,3,4,5,6,7,8])\n",
    "print(numarr)\n",
    "np2=np.arange(0,14,4)\n",
    "print(np2)"
   ]
  },
  {
   "cell_type": "code",
   "execution_count": 18,
   "metadata": {},
   "outputs": [
    {
     "name": "stdout",
     "output_type": "stream",
     "text": [
      "[[1 1 1 1 1 1 1 1 1 1]\n",
      " [1 1 1 1 1 1 1 1 1 1]\n",
      " [1 1 1 1 1 1 1 1 1 1]] (3, 10)\n"
     ]
    }
   ],
   "source": [
    "numarr1=np.full((3,10),1)\n",
    "print(numarr1,numarr1.shape)\n"
   ]
  },
  {
   "cell_type": "code",
   "execution_count": 15,
   "metadata": {},
   "outputs": [
    {
     "name": "stdout",
     "output_type": "stream",
     "text": [
      "['1' '2' '3' 'tiger']\n"
     ]
    }
   ],
   "source": [
    "np1=np.array(list1)\n",
    "print(np1)"
   ]
  },
  {
   "cell_type": "code",
   "execution_count": 16,
   "metadata": {},
   "outputs": [
    {
     "name": "stdout",
     "output_type": "stream",
     "text": [
      "(4,)\n"
     ]
    }
   ],
   "source": [
    "print(np1.shape)\n"
   ]
  },
  {
   "cell_type": "code",
   "execution_count": 41,
   "metadata": {},
   "outputs": [
    {
     "name": "stdout",
     "output_type": "stream",
     "text": [
      "[1 3 5 7 9]\n"
     ]
    }
   ],
   "source": [
    "nos1=np.array([1,2,3,4,5,6,7,8,9,10])\n",
    "print(nos1[::2]) "
   ]
  },
  {
   "cell_type": "code",
   "execution_count": 12,
   "metadata": {},
   "outputs": [
    {
     "name": "stdout",
     "output_type": "stream",
     "text": [
      "[[1.         1.41421356 1.73205081 2.         2.23606798]\n",
      " [2.44948974 2.64575131 2.82842712 3.         3.16227766]]\n"
     ]
    }
   ],
   "source": [
    "np2d=np.array([[1,2,3,4,5],[6,7,8,9,10]])\n",
    "print(np.sqrt(np2d))"
   ]
  },
  {
   "cell_type": "code",
   "execution_count": 13,
   "metadata": {},
   "outputs": [
    {
     "name": "stdout",
     "output_type": "stream",
     "text": [
      "[3 2 1 0 1 2 3 4 5 6 7 8]\n",
      "[       nan        nan        nan       -inf 0.         0.69314718\n",
      " 1.09861229 1.38629436 1.60943791 1.79175947 1.94591015 2.07944154]\n",
      "-3\n"
     ]
    },
    {
     "name": "stderr",
     "output_type": "stream",
     "text": [
      "C:\\Users\\rishi\\AppData\\Local\\Temp\\ipykernel_20032\\1486180653.py:3: RuntimeWarning: divide by zero encountered in log\n",
      "  print(np.log(np12))\n",
      "C:\\Users\\rishi\\AppData\\Local\\Temp\\ipykernel_20032\\1486180653.py:3: RuntimeWarning: invalid value encountered in log\n",
      "  print(np.log(np12))\n"
     ]
    }
   ],
   "source": [
    "np12=np.array([-3,-2,-1,0,1,2,3,4,5,6,7,8])\n",
    "print(np.absolute(np12))\n",
    "print(np.log(np12))\n",
    "print(np.min(np12))"
   ]
  },
  {
   "cell_type": "code",
   "execution_count": 14,
   "metadata": {},
   "outputs": [
    {
     "name": "stdout",
     "output_type": "stream",
     "text": [
      "[-3 -2 -1  0  1  2  3  4  5  6  7  8]\n",
      "[-3 -2 -1  0  1  2  3  4  5  6  7  8]\n",
      "[-3 -2 -1  0  1  2  3  4  5  6  7  8]\n"
     ]
    }
   ],
   "source": [
    "np13=np12.view()\n",
    "np14=np12.copy()\n",
    "print(np12)\n",
    "print(np13)\n",
    "print(np14)"
   ]
  },
  {
   "cell_type": "code",
   "execution_count": 15,
   "metadata": {},
   "outputs": [
    {
     "name": "stdout",
     "output_type": "stream",
     "text": [
      "[ -3  -2 -11   0   1   2   3   4   5   6   7   8]\n",
      "[ -3  -2 -11   0   1   2   3   4   5   6   7   8]\n",
      "[-3 -2 -1  0  1  2  3  4  5  6  7  8]\n"
     ]
    }
   ],
   "source": [
    "np13=np12.view()\n",
    "\n",
    "np13[2]=-11\n",
    "print(np12)\n",
    "print(np13)\n",
    "print(np14)"
   ]
  },
  {
   "cell_type": "code",
   "execution_count": 16,
   "metadata": {},
   "outputs": [
    {
     "name": "stdout",
     "output_type": "stream",
     "text": [
      "[[ -3  -2 -11   0   1   2]\n",
      " [  3   4   5   6   7   8]]\n"
     ]
    }
   ],
   "source": [
    "npq=np12.reshape(2,6)\n",
    "print(npq)\n"
   ]
  },
  {
   "cell_type": "code",
   "execution_count": 17,
   "metadata": {},
   "outputs": [
    {
     "name": "stdout",
     "output_type": "stream",
     "text": [
      "[ -3  -2 -11   0   1   2   3   4   5   6   7   8]\n"
     ]
    }
   ],
   "source": [
    "npq=npq.reshape(-1)\n",
    "print(npq)"
   ]
  },
  {
   "cell_type": "code",
   "execution_count": 18,
   "metadata": {},
   "outputs": [
    {
     "name": "stdout",
     "output_type": "stream",
     "text": [
      "-3\n",
      "-2\n",
      "-11\n",
      "0\n",
      "1\n",
      "2\n",
      "3\n",
      "4\n",
      "5\n",
      "6\n",
      "7\n",
      "8\n"
     ]
    }
   ],
   "source": [
    "for i in npq:\n",
    "    print(i)\n",
    "    \n"
   ]
  },
  {
   "cell_type": "code",
   "execution_count": 19,
   "metadata": {},
   "outputs": [
    {
     "name": "stdout",
     "output_type": "stream",
     "text": [
      "-3\n",
      "-2\n",
      "-11\n",
      "0\n",
      "1\n",
      "2\n",
      "3\n",
      "4\n",
      "5\n",
      "6\n",
      "7\n",
      "8\n"
     ]
    }
   ],
   "source": [
    "npq=npq.reshape(3,4)\n",
    "for i in npq:\n",
    "    for j in i:\n",
    "        print(j)"
   ]
  },
  {
   "cell_type": "code",
   "execution_count": 25,
   "metadata": {},
   "outputs": [],
   "source": [
    " npq=np.array([-3 ,-2,-11,0,1,2,3 ,4,5,6, 7 ,  8])"
   ]
  },
  {
   "cell_type": "code",
   "execution_count": 26,
   "metadata": {},
   "outputs": [
    {
     "name": "stdout",
     "output_type": "stream",
     "text": [
      "-3\n",
      "-2\n",
      "-11\n",
      "0\n",
      "1\n",
      "2\n",
      "3\n",
      "4\n",
      "5\n",
      "6\n",
      "7\n",
      "8\n"
     ]
    }
   ],
   "source": [
    "for i in np.nditer(npq):\n",
    "    print(i)"
   ]
  },
  {
   "cell_type": "code",
   "execution_count": 28,
   "metadata": {},
   "outputs": [
    {
     "name": "stdout",
     "output_type": "stream",
     "text": [
      "(array([6], dtype=int64),)\n",
      "[6]\n",
      "(array([ 0,  2,  4,  6,  8, 10], dtype=int64),)\n"
     ]
    }
   ],
   "source": [
    "x= np.where(npq == 3)\n",
    "print(x)\n",
    "print(x[0])\n",
    "print(np.where(npq%2!=0))"
   ]
  },
  {
   "cell_type": "code",
   "execution_count": 30,
   "metadata": {},
   "outputs": [
    {
     "name": "stdout",
     "output_type": "stream",
     "text": [
      "[ -3  -2 -11   0   1   2   3   4   5   6   7   8]\n",
      "[False, True, False, True, False, True, False, True, False, True, False, True]\n",
      "[-2  0  2  4  6  8]\n"
     ]
    }
   ],
   "source": [
    "filtered=[]\n",
    "for thing in npq :\n",
    "    if thing%2==0 :\n",
    "        filtered.append(True)\n",
    "    else :\n",
    "        filtered.append(False)\n",
    "print(npq)\n",
    "print(filtered)\n",
    "print(npq[filtered])    "
   ]
  },
  {
   "cell_type": "code",
   "execution_count": 31,
   "metadata": {},
   "outputs": [
    {
     "name": "stdout",
     "output_type": "stream",
     "text": [
      "[ -3  -2 -11   0   1   2   3   4   5   6   7   8]\n",
      "[False  True False  True False  True False  True False  True False  True]\n",
      "[-2  0  2  4  6  8]\n"
     ]
    }
   ],
   "source": [
    "filtered=npq%2==0\n",
    "\n",
    "print(npq)\n",
    "print(filtered)\n",
    "print(npq[filtered]) "
   ]
  },
  {
   "cell_type": "code",
   "execution_count": null,
   "metadata": {},
   "outputs": [],
   "source": []
  }
 ],
 "metadata": {
  "kernelspec": {
   "display_name": "Python 3",
   "language": "python",
   "name": "python3"
  },
  "language_info": {
   "codemirror_mode": {
    "name": "ipython",
    "version": 3
   },
   "file_extension": ".py",
   "mimetype": "text/x-python",
   "name": "python",
   "nbconvert_exporter": "python",
   "pygments_lexer": "ipython3",
   "version": "3.11.5"
  }
 },
 "nbformat": 4,
 "nbformat_minor": 2
}
